{
 "cells": [
  {
   "cell_type": "code",
   "execution_count": 1,
   "metadata": {},
   "outputs": [],
   "source": [
    "#Importing different libraries for:\n",
    "#Data preparation\n",
    "import pandas as pd\n",
    "import numpy as np\n",
    "#Data visualization\n",
    "import matplotlib.pyplot as plt\n",
    "import seaborn as sns\n",
    "sns.set()\n",
    "#Data preprocessing\n",
    "from sklearn.feature_selection import chi2\n",
    "from sklearn.impute import SimpleImputer\n",
    "from sklearn.model_selection import train_test_split\n",
    "from sklearn.preprocessing import StandardScaler\n",
    "from imblearn.over_sampling import SMOTE\n",
    "#Modelling\n",
    "from sklearn.linear_model import LogisticRegression\n",
    "from sklearn.svm import SVC\n",
    "from sklearn.ensemble import RandomForestClassifier\n",
    "#Model Evaluation\n",
    "from sklearn.metrics import ConfusionMatrixDisplay,confusion_matrix,roc_curve,classification_report,accuracy_score,mean_squared_error"
   ]
  },
  {
   "cell_type": "code",
   "execution_count": 2,
   "metadata": {
    "scrolled": true
   },
   "outputs": [
    {
     "name": "stderr",
     "output_type": "stream",
     "text": [
      "C:\\Users\\User1\\AppData\\Local\\Temp\\ipykernel_11024\\1567208602.py:1: DtypeWarning: Columns (31) have mixed types. Specify dtype option on import or set low_memory=False.\n",
      "  data = pd.read_csv(\"IST_data.csv\")\n"
     ]
    },
    {
     "data": {
      "text/html": [
       "<div>\n",
       "<style scoped>\n",
       "    .dataframe tbody tr th:only-of-type {\n",
       "        vertical-align: middle;\n",
       "    }\n",
       "\n",
       "    .dataframe tbody tr th {\n",
       "        vertical-align: top;\n",
       "    }\n",
       "\n",
       "    .dataframe thead th {\n",
       "        text-align: right;\n",
       "    }\n",
       "</style>\n",
       "<table border=\"1\" class=\"dataframe\">\n",
       "  <thead>\n",
       "    <tr style=\"text-align: right;\">\n",
       "      <th></th>\n",
       "      <th>HOSPNUM</th>\n",
       "      <th>RDELAY</th>\n",
       "      <th>RCONSC</th>\n",
       "      <th>SEX</th>\n",
       "      <th>AGE</th>\n",
       "      <th>RSLEEP</th>\n",
       "      <th>RATRIAL</th>\n",
       "      <th>RCT</th>\n",
       "      <th>RVISINF</th>\n",
       "      <th>RHEP24</th>\n",
       "      <th>...</th>\n",
       "      <th>DEAD8</th>\n",
       "      <th>H14</th>\n",
       "      <th>ISC14</th>\n",
       "      <th>NK14</th>\n",
       "      <th>STRK14</th>\n",
       "      <th>HTI14</th>\n",
       "      <th>PE14</th>\n",
       "      <th>DVT14</th>\n",
       "      <th>TRAN14</th>\n",
       "      <th>NCB14</th>\n",
       "    </tr>\n",
       "  </thead>\n",
       "  <tbody>\n",
       "    <tr>\n",
       "      <th>0</th>\n",
       "      <td>1</td>\n",
       "      <td>17</td>\n",
       "      <td>D</td>\n",
       "      <td>M</td>\n",
       "      <td>69</td>\n",
       "      <td>Y</td>\n",
       "      <td>NaN</td>\n",
       "      <td>Y</td>\n",
       "      <td>Y</td>\n",
       "      <td>NaN</td>\n",
       "      <td>...</td>\n",
       "      <td>0</td>\n",
       "      <td>0</td>\n",
       "      <td>0</td>\n",
       "      <td>0</td>\n",
       "      <td>0</td>\n",
       "      <td>0</td>\n",
       "      <td>0</td>\n",
       "      <td>0</td>\n",
       "      <td>0</td>\n",
       "      <td>0</td>\n",
       "    </tr>\n",
       "    <tr>\n",
       "      <th>1</th>\n",
       "      <td>1</td>\n",
       "      <td>10</td>\n",
       "      <td>F</td>\n",
       "      <td>M</td>\n",
       "      <td>76</td>\n",
       "      <td>Y</td>\n",
       "      <td>NaN</td>\n",
       "      <td>Y</td>\n",
       "      <td>N</td>\n",
       "      <td>NaN</td>\n",
       "      <td>...</td>\n",
       "      <td>0</td>\n",
       "      <td>0</td>\n",
       "      <td>0</td>\n",
       "      <td>0</td>\n",
       "      <td>0</td>\n",
       "      <td>0</td>\n",
       "      <td>0</td>\n",
       "      <td>0</td>\n",
       "      <td>0</td>\n",
       "      <td>0</td>\n",
       "    </tr>\n",
       "    <tr>\n",
       "      <th>2</th>\n",
       "      <td>1</td>\n",
       "      <td>43</td>\n",
       "      <td>F</td>\n",
       "      <td>F</td>\n",
       "      <td>71</td>\n",
       "      <td>N</td>\n",
       "      <td>NaN</td>\n",
       "      <td>Y</td>\n",
       "      <td>N</td>\n",
       "      <td>NaN</td>\n",
       "      <td>...</td>\n",
       "      <td>0</td>\n",
       "      <td>0</td>\n",
       "      <td>0</td>\n",
       "      <td>0</td>\n",
       "      <td>0</td>\n",
       "      <td>0</td>\n",
       "      <td>0</td>\n",
       "      <td>0</td>\n",
       "      <td>0</td>\n",
       "      <td>0</td>\n",
       "    </tr>\n",
       "    <tr>\n",
       "      <th>3</th>\n",
       "      <td>1</td>\n",
       "      <td>6</td>\n",
       "      <td>F</td>\n",
       "      <td>M</td>\n",
       "      <td>81</td>\n",
       "      <td>N</td>\n",
       "      <td>NaN</td>\n",
       "      <td>N</td>\n",
       "      <td>N</td>\n",
       "      <td>NaN</td>\n",
       "      <td>...</td>\n",
       "      <td>0</td>\n",
       "      <td>0</td>\n",
       "      <td>0</td>\n",
       "      <td>0</td>\n",
       "      <td>0</td>\n",
       "      <td>0</td>\n",
       "      <td>0</td>\n",
       "      <td>0</td>\n",
       "      <td>0</td>\n",
       "      <td>0</td>\n",
       "    </tr>\n",
       "    <tr>\n",
       "      <th>4</th>\n",
       "      <td>4</td>\n",
       "      <td>20</td>\n",
       "      <td>F</td>\n",
       "      <td>M</td>\n",
       "      <td>78</td>\n",
       "      <td>N</td>\n",
       "      <td>NaN</td>\n",
       "      <td>N</td>\n",
       "      <td>N</td>\n",
       "      <td>NaN</td>\n",
       "      <td>...</td>\n",
       "      <td>0</td>\n",
       "      <td>0</td>\n",
       "      <td>0</td>\n",
       "      <td>0</td>\n",
       "      <td>0</td>\n",
       "      <td>0</td>\n",
       "      <td>0</td>\n",
       "      <td>0</td>\n",
       "      <td>0</td>\n",
       "      <td>0</td>\n",
       "    </tr>\n",
       "  </tbody>\n",
       "</table>\n",
       "<p>5 rows × 112 columns</p>\n",
       "</div>"
      ],
      "text/plain": [
       "   HOSPNUM  RDELAY RCONSC SEX  AGE RSLEEP RATRIAL RCT RVISINF RHEP24  ...  \\\n",
       "0        1      17      D   M   69      Y     NaN   Y       Y    NaN  ...   \n",
       "1        1      10      F   M   76      Y     NaN   Y       N    NaN  ...   \n",
       "2        1      43      F   F   71      N     NaN   Y       N    NaN  ...   \n",
       "3        1       6      F   M   81      N     NaN   N       N    NaN  ...   \n",
       "4        4      20      F   M   78      N     NaN   N       N    NaN  ...   \n",
       "\n",
       "  DEAD8  H14 ISC14 NK14 STRK14 HTI14 PE14 DVT14 TRAN14 NCB14  \n",
       "0     0    0     0    0      0     0    0     0      0     0  \n",
       "1     0    0     0    0      0     0    0     0      0     0  \n",
       "2     0    0     0    0      0     0    0     0      0     0  \n",
       "3     0    0     0    0      0     0    0     0      0     0  \n",
       "4     0    0     0    0      0     0    0     0      0     0  \n",
       "\n",
       "[5 rows x 112 columns]"
      ]
     },
     "execution_count": 2,
     "metadata": {},
     "output_type": "execute_result"
    }
   ],
   "source": [
    "data = pd.read_csv(\"IST_data.csv\")\n",
    "data.head()"
   ]
  },
  {
   "cell_type": "code",
   "execution_count": 3,
   "metadata": {},
   "outputs": [
    {
     "data": {
      "text/plain": [
       "(19435, 112)"
      ]
     },
     "execution_count": 3,
     "metadata": {},
     "output_type": "execute_result"
    }
   ],
   "source": [
    "data.shape"
   ]
  },
  {
   "cell_type": "code",
   "execution_count": 4,
   "metadata": {
    "scrolled": true
   },
   "outputs": [
    {
     "name": "stderr",
     "output_type": "stream",
     "text": [
      "C:\\Users\\User1\\AppData\\Local\\Temp\\ipykernel_11024\\1029247729.py:4: SettingWithCopyWarning: \n",
      "A value is trying to be set on a copy of a slice from a DataFrame\n",
      "\n",
      "See the caveats in the documentation: https://pandas.pydata.org/pandas-docs/stable/user_guide/indexing.html#returning-a-view-versus-a-copy\n",
      "  ex_data.rename(columns = {\"RSBP\": \"BP\",\n"
     ]
    },
    {
     "data": {
      "text/html": [
       "<div>\n",
       "<style scoped>\n",
       "    .dataframe tbody tr th:only-of-type {\n",
       "        vertical-align: middle;\n",
       "    }\n",
       "\n",
       "    .dataframe tbody tr th {\n",
       "        vertical-align: top;\n",
       "    }\n",
       "\n",
       "    .dataframe thead th {\n",
       "        text-align: right;\n",
       "    }\n",
       "</style>\n",
       "<table border=\"1\" class=\"dataframe\">\n",
       "  <thead>\n",
       "    <tr style=\"text-align: right;\">\n",
       "      <th></th>\n",
       "      <th>SEX</th>\n",
       "      <th>AGE</th>\n",
       "      <th>BP</th>\n",
       "      <th>INFARCTION</th>\n",
       "      <th>FACE_DEFICIT</th>\n",
       "      <th>ARM_DEFICIT</th>\n",
       "      <th>LEG_DEFICIT</th>\n",
       "      <th>DYSPHASIA</th>\n",
       "      <th>HEMIANOPIA</th>\n",
       "      <th>VS_DISORDER</th>\n",
       "      <th>CEREBELLAR_SIGNS</th>\n",
       "      <th>STROKE_TYPE</th>\n",
       "      <th>ISCHEMIC_DIAG</th>\n",
       "      <th>HAEMORRHAGIC_DIAG</th>\n",
       "      <th>INDETERMINATE_DIAG</th>\n",
       "      <th>STROKE</th>\n",
       "    </tr>\n",
       "  </thead>\n",
       "  <tbody>\n",
       "    <tr>\n",
       "      <th>0</th>\n",
       "      <td>M</td>\n",
       "      <td>69</td>\n",
       "      <td>140</td>\n",
       "      <td>Y</td>\n",
       "      <td>N</td>\n",
       "      <td>N</td>\n",
       "      <td>N</td>\n",
       "      <td>Y</td>\n",
       "      <td>N</td>\n",
       "      <td>Y</td>\n",
       "      <td>N</td>\n",
       "      <td>PACS</td>\n",
       "      <td>Y</td>\n",
       "      <td>N</td>\n",
       "      <td>N</td>\n",
       "      <td>N</td>\n",
       "    </tr>\n",
       "    <tr>\n",
       "      <th>1</th>\n",
       "      <td>M</td>\n",
       "      <td>76</td>\n",
       "      <td>150</td>\n",
       "      <td>N</td>\n",
       "      <td>Y</td>\n",
       "      <td>Y</td>\n",
       "      <td>Y</td>\n",
       "      <td>N</td>\n",
       "      <td>N</td>\n",
       "      <td>N</td>\n",
       "      <td>N</td>\n",
       "      <td>LACS</td>\n",
       "      <td>Y</td>\n",
       "      <td>N</td>\n",
       "      <td>N</td>\n",
       "      <td>N</td>\n",
       "    </tr>\n",
       "    <tr>\n",
       "      <th>2</th>\n",
       "      <td>F</td>\n",
       "      <td>71</td>\n",
       "      <td>170</td>\n",
       "      <td>N</td>\n",
       "      <td>Y</td>\n",
       "      <td>Y</td>\n",
       "      <td>Y</td>\n",
       "      <td>N</td>\n",
       "      <td>N</td>\n",
       "      <td>N</td>\n",
       "      <td>N</td>\n",
       "      <td>LACS</td>\n",
       "      <td>Y</td>\n",
       "      <td>N</td>\n",
       "      <td>N</td>\n",
       "      <td>N</td>\n",
       "    </tr>\n",
       "    <tr>\n",
       "      <th>3</th>\n",
       "      <td>M</td>\n",
       "      <td>81</td>\n",
       "      <td>170</td>\n",
       "      <td>N</td>\n",
       "      <td>N</td>\n",
       "      <td>N</td>\n",
       "      <td>N</td>\n",
       "      <td>Y</td>\n",
       "      <td>N</td>\n",
       "      <td>N</td>\n",
       "      <td>N</td>\n",
       "      <td>PACS</td>\n",
       "      <td>Y</td>\n",
       "      <td>N</td>\n",
       "      <td>N</td>\n",
       "      <td>N</td>\n",
       "    </tr>\n",
       "    <tr>\n",
       "      <th>4</th>\n",
       "      <td>M</td>\n",
       "      <td>78</td>\n",
       "      <td>170</td>\n",
       "      <td>N</td>\n",
       "      <td>Y</td>\n",
       "      <td>Y</td>\n",
       "      <td>Y</td>\n",
       "      <td>N</td>\n",
       "      <td>N</td>\n",
       "      <td>N</td>\n",
       "      <td>N</td>\n",
       "      <td>LACS</td>\n",
       "      <td>Y</td>\n",
       "      <td>N</td>\n",
       "      <td>N</td>\n",
       "      <td>N</td>\n",
       "    </tr>\n",
       "  </tbody>\n",
       "</table>\n",
       "</div>"
      ],
      "text/plain": [
       "  SEX  AGE   BP INFARCTION FACE_DEFICIT ARM_DEFICIT LEG_DEFICIT DYSPHASIA  \\\n",
       "0   M   69  140          Y            N           N           N         Y   \n",
       "1   M   76  150          N            Y           Y           Y         N   \n",
       "2   F   71  170          N            Y           Y           Y         N   \n",
       "3   M   81  170          N            N           N           N         Y   \n",
       "4   M   78  170          N            Y           Y           Y         N   \n",
       "\n",
       "  HEMIANOPIA VS_DISORDER CEREBELLAR_SIGNS STROKE_TYPE ISCHEMIC_DIAG  \\\n",
       "0          N           Y                N        PACS             Y   \n",
       "1          N           N                N        LACS             Y   \n",
       "2          N           N                N        LACS             Y   \n",
       "3          N           N                N        PACS             Y   \n",
       "4          N           N                N        LACS             Y   \n",
       "\n",
       "  HAEMORRHAGIC_DIAG INDETERMINATE_DIAG STROKE  \n",
       "0                 N                  N      N  \n",
       "1                 N                  N      N  \n",
       "2                 N                  N      N  \n",
       "3                 N                  N      N  \n",
       "4                 N                  N      N  "
      ]
     },
     "execution_count": 4,
     "metadata": {},
     "output_type": "execute_result"
    }
   ],
   "source": [
    "#Extraction of the needed column\n",
    "ex_data = data[[\"SEX\",\"AGE\",\"RSBP\",\"RVISINF\",\"RDEF1\",\"RDEF2\",\"RDEF3\",\"RDEF4\",\"RDEF5\",\"RDEF6\",\"RDEF7\",\"STYPE\",\"DDIAGISC\",\n",
    "                \"DDIAGHA\",\"DDIAGUN\",\"DNOSTRK\"]]\n",
    "ex_data.rename(columns = {\"RSBP\": \"BP\",\n",
    "                         \"RVISINF\": \"INFARCTION\",\n",
    "                         \"RDEF1\": \"Face_deficit\".upper(),\n",
    "                         \"RDEF2\": \"Arm_deficit\".upper(),\n",
    "                         \"RDEF3\": \"Leg_deficit\".upper(),\n",
    "                         \"RDEF4\": \"Dysphasia\".upper(),\n",
    "                         \"RDEF5\": \"Hemianopia\".upper(),\n",
    "                         \"RDEF6\": \"VS_disorder\".upper(),\n",
    "                         \"RDEF7\": \"cerebellar_signs\".upper(),\n",
    "                         \"STYPE\": \"Stroke_type\".upper(),\n",
    "                         \"DDIAGHA\": \"Haemorrhagic_diag\".upper(),\n",
    "                          \"DDIAGISC\": \"ischemic_diag\".upper(),\n",
    "                          \"DDIAGUN\": \"Indeterminate_diag\".upper(),\n",
    "                         \"DNOSTRK\": \"Stroke\".upper()}, inplace = True)\n",
    "ex_data.head()\n"
   ]
  },
  {
   "cell_type": "code",
   "execution_count": 5,
   "metadata": {
    "scrolled": true
   },
   "outputs": [
    {
     "data": {
      "text/plain": [
       "SEX                    0\n",
       "AGE                    0\n",
       "BP                     0\n",
       "INFARCTION             0\n",
       "FACE_DEFICIT           0\n",
       "ARM_DEFICIT            0\n",
       "LEG_DEFICIT            0\n",
       "DYSPHASIA              0\n",
       "HEMIANOPIA             0\n",
       "VS_DISORDER            0\n",
       "CEREBELLAR_SIGNS       0\n",
       "STROKE_TYPE            0\n",
       "ISCHEMIC_DIAG         23\n",
       "HAEMORRHAGIC_DIAG     26\n",
       "INDETERMINATE_DIAG    23\n",
       "STROKE                26\n",
       "dtype: int64"
      ]
     },
     "execution_count": 5,
     "metadata": {},
     "output_type": "execute_result"
    }
   ],
   "source": [
    "ex_data.isnull().sum()"
   ]
  },
  {
   "cell_type": "code",
   "execution_count": 6,
   "metadata": {},
   "outputs": [
    {
     "name": "stderr",
     "output_type": "stream",
     "text": [
      "C:\\Users\\User1\\AppData\\Local\\Temp\\ipykernel_11024\\939424408.py:1: SettingWithCopyWarning: \n",
      "A value is trying to be set on a copy of a slice from a DataFrame\n",
      "\n",
      "See the caveats in the documentation: https://pandas.pydata.org/pandas-docs/stable/user_guide/indexing.html#returning-a-view-versus-a-copy\n",
      "  ex_data.dropna(inplace = True)\n"
     ]
    },
    {
     "data": {
      "text/plain": [
       "SEX                   0\n",
       "AGE                   0\n",
       "BP                    0\n",
       "INFARCTION            0\n",
       "FACE_DEFICIT          0\n",
       "ARM_DEFICIT           0\n",
       "LEG_DEFICIT           0\n",
       "DYSPHASIA             0\n",
       "HEMIANOPIA            0\n",
       "VS_DISORDER           0\n",
       "CEREBELLAR_SIGNS      0\n",
       "STROKE_TYPE           0\n",
       "ISCHEMIC_DIAG         0\n",
       "HAEMORRHAGIC_DIAG     0\n",
       "INDETERMINATE_DIAG    0\n",
       "STROKE                0\n",
       "dtype: int64"
      ]
     },
     "execution_count": 6,
     "metadata": {},
     "output_type": "execute_result"
    }
   ],
   "source": [
    "ex_data.dropna(inplace = True)\n",
    "ex_data.isnull().sum()"
   ]
  },
  {
   "cell_type": "code",
   "execution_count": 7,
   "metadata": {},
   "outputs": [
    {
     "data": {
      "text/plain": [
       "Index(['SEX', 'AGE', 'BP', 'INFARCTION', 'FACE_DEFICIT', 'ARM_DEFICIT',\n",
       "       'LEG_DEFICIT', 'DYSPHASIA', 'HEMIANOPIA', 'VS_DISORDER',\n",
       "       'CEREBELLAR_SIGNS', 'STROKE_TYPE', 'ISCHEMIC_DIAG', 'HAEMORRHAGIC_DIAG',\n",
       "       'INDETERMINATE_DIAG', 'STROKE'],\n",
       "      dtype='object')"
      ]
     },
     "execution_count": 7,
     "metadata": {},
     "output_type": "execute_result"
    }
   ],
   "source": [
    "ex_data.columns"
   ]
  },
  {
   "cell_type": "code",
   "execution_count": 8,
   "metadata": {},
   "outputs": [
    {
     "name": "stderr",
     "output_type": "stream",
     "text": [
      "C:\\Users\\User1\\AppData\\Local\\Temp\\ipykernel_11024\\2870902762.py:5: FutureWarning: Downcasting behavior in `replace` is deprecated and will be removed in a future version. To retain the old behavior, explicitly call `result.infer_objects(copy=False)`. To opt-in to the future behavior, set `pd.set_option('future.no_silent_downcasting', True)`\n",
      "  'DYSPHASIA', 'HEMIANOPIA', 'VS_DISORDER','CEREBELLAR_SIGNS']].replace({\"Y\":2,\n",
      "C:\\Users\\User1\\AppData\\Local\\Temp\\ipykernel_11024\\2870902762.py:2: SettingWithCopyWarning: \n",
      "A value is trying to be set on a copy of a slice from a DataFrame.\n",
      "Try using .loc[row_indexer,col_indexer] = value instead\n",
      "\n",
      "See the caveats in the documentation: https://pandas.pydata.org/pandas-docs/stable/user_guide/indexing.html#returning-a-view-versus-a-copy\n",
      "  ex_data[['INFARCTION', 'FACE_DEFICIT', 'ARM_DEFICIT',\n"
     ]
    }
   ],
   "source": [
    "#Replacing yes and no with 1s and Os\n",
    "ex_data[['INFARCTION', 'FACE_DEFICIT', 'ARM_DEFICIT',\n",
    "       'LEG_DEFICIT', 'DYSPHASIA', 'HEMIANOPIA', 'VS_DISORDER',\n",
    "       'CEREBELLAR_SIGNS']]=ex_data[['INFARCTION', 'FACE_DEFICIT', 'ARM_DEFICIT','LEG_DEFICIT', \n",
    "                                     'DYSPHASIA', 'HEMIANOPIA', 'VS_DISORDER','CEREBELLAR_SIGNS']].replace({\"Y\":2,\n",
    "                                                                                                        \"N\":1,\n",
    "                                                                                                         \"C\":0})"
   ]
  },
  {
   "cell_type": "code",
   "execution_count": 9,
   "metadata": {},
   "outputs": [
    {
     "name": "stderr",
     "output_type": "stream",
     "text": [
      "C:\\Users\\User1\\AppData\\Local\\Temp\\ipykernel_11024\\1261156738.py:1: FutureWarning: A value is trying to be set on a copy of a DataFrame or Series through chained assignment using an inplace method.\n",
      "The behavior will change in pandas 3.0. This inplace method will never work because the intermediate object on which we are setting values always behaves as a copy.\n",
      "\n",
      "For example, when doing 'df[col].method(value, inplace=True)', try using 'df.method({col: value}, inplace=True)' or df[col] = df[col].method(value) instead, to perform the operation inplace on the original object.\n",
      "\n",
      "\n",
      "  ex_data[\"STROKE\"].replace({\"N\":1,\n",
      "C:\\Users\\User1\\AppData\\Local\\Temp\\ipykernel_11024\\1261156738.py:1: SettingWithCopyWarning: \n",
      "A value is trying to be set on a copy of a slice from a DataFrame\n",
      "\n",
      "See the caveats in the documentation: https://pandas.pydata.org/pandas-docs/stable/user_guide/indexing.html#returning-a-view-versus-a-copy\n",
      "  ex_data[\"STROKE\"].replace({\"N\":1,\n",
      "C:\\Users\\User1\\AppData\\Local\\Temp\\ipykernel_11024\\1261156738.py:3: FutureWarning: A value is trying to be set on a copy of a DataFrame or Series through chained assignment using an inplace method.\n",
      "The behavior will change in pandas 3.0. This inplace method will never work because the intermediate object on which we are setting values always behaves as a copy.\n",
      "\n",
      "For example, when doing 'df[col].method(value, inplace=True)', try using 'df.method({col: value}, inplace=True)' or df[col] = df[col].method(value) instead, to perform the operation inplace on the original object.\n",
      "\n",
      "\n",
      "  ex_data[\"SEX\"].replace({\"M\":0,\n",
      "C:\\Users\\User1\\AppData\\Local\\Temp\\ipykernel_11024\\1261156738.py:3: FutureWarning: Downcasting behavior in `replace` is deprecated and will be removed in a future version. To retain the old behavior, explicitly call `result.infer_objects(copy=False)`. To opt-in to the future behavior, set `pd.set_option('future.no_silent_downcasting', True)`\n",
      "  ex_data[\"SEX\"].replace({\"M\":0,\n",
      "C:\\Users\\User1\\AppData\\Local\\Temp\\ipykernel_11024\\1261156738.py:3: SettingWithCopyWarning: \n",
      "A value is trying to be set on a copy of a slice from a DataFrame\n",
      "\n",
      "See the caveats in the documentation: https://pandas.pydata.org/pandas-docs/stable/user_guide/indexing.html#returning-a-view-versus-a-copy\n",
      "  ex_data[\"SEX\"].replace({\"M\":0,\n"
     ]
    },
    {
     "data": {
      "text/plain": [
       "19402"
      ]
     },
     "execution_count": 9,
     "metadata": {},
     "output_type": "execute_result"
    }
   ],
   "source": [
    "ex_data[\"STROKE\"].replace({\"N\":1,\n",
    "                           \"Y\":0}, inplace = True)\n",
    "ex_data[\"SEX\"].replace({\"M\":0,\n",
    "                       \"F\":1},inplace=True)\n",
    "len(ex_data)"
   ]
  },
  {
   "cell_type": "code",
   "execution_count": 10,
   "metadata": {},
   "outputs": [
    {
     "name": "stderr",
     "output_type": "stream",
     "text": [
      "C:\\Users\\User1\\AppData\\Local\\Temp\\ipykernel_11024\\3377568699.py:1: FutureWarning: Downcasting behavior in `replace` is deprecated and will be removed in a future version. To retain the old behavior, explicitly call `result.infer_objects(copy=False)`. To opt-in to the future behavior, set `pd.set_option('future.no_silent_downcasting', True)`\n",
      "  ex_data[\"STROKE_TYPE\"] = ex_data[\"STROKE_TYPE\"].replace({'PACS':1, 'LACS':2, 'POCS':3, 'OTH':4, 'TACS':5})\n",
      "C:\\Users\\User1\\AppData\\Local\\Temp\\ipykernel_11024\\3377568699.py:1: SettingWithCopyWarning: \n",
      "A value is trying to be set on a copy of a slice from a DataFrame.\n",
      "Try using .loc[row_indexer,col_indexer] = value instead\n",
      "\n",
      "See the caveats in the documentation: https://pandas.pydata.org/pandas-docs/stable/user_guide/indexing.html#returning-a-view-versus-a-copy\n",
      "  ex_data[\"STROKE_TYPE\"] = ex_data[\"STROKE_TYPE\"].replace({'PACS':1, 'LACS':2, 'POCS':3, 'OTH':4, 'TACS':5})\n",
      "C:\\Users\\User1\\AppData\\Local\\Temp\\ipykernel_11024\\3377568699.py:3: SettingWithCopyWarning: \n",
      "A value is trying to be set on a copy of a slice from a DataFrame.\n",
      "Try using .loc[row_indexer,col_indexer] = value instead\n",
      "\n",
      "See the caveats in the documentation: https://pandas.pydata.org/pandas-docs/stable/user_guide/indexing.html#returning-a-view-versus-a-copy\n",
      "  ex_data[[\"HAEMORRHAGIC_DIAG\",\"INDETERMINATE_DIAG\"]] = ex_data[[\"HAEMORRHAGIC_DIAG\",\"INDETERMINATE_DIAG\"]].replace({\"N\":0,\"Y\":1})\n",
      "C:\\Users\\User1\\AppData\\Local\\Temp\\ipykernel_11024\\3377568699.py:8: FutureWarning: A value is trying to be set on a copy of a DataFrame or Series through chained assignment using an inplace method.\n",
      "The behavior will change in pandas 3.0. This inplace method will never work because the intermediate object on which we are setting values always behaves as a copy.\n",
      "\n",
      "For example, when doing 'df[col].method(value, inplace=True)', try using 'df.method({col: value}, inplace=True)' or df[col] = df[col].method(value) instead, to perform the operation inplace on the original object.\n",
      "\n",
      "\n",
      "  ex_data[\"ISCHEMIC_DIAG\"].replace({\"N\":0,\"Y\":1,\"U\":2,\"u\":2}, inplace = True)\n",
      "C:\\Users\\User1\\AppData\\Local\\Temp\\ipykernel_11024\\3377568699.py:8: FutureWarning: Downcasting behavior in `replace` is deprecated and will be removed in a future version. To retain the old behavior, explicitly call `result.infer_objects(copy=False)`. To opt-in to the future behavior, set `pd.set_option('future.no_silent_downcasting', True)`\n",
      "  ex_data[\"ISCHEMIC_DIAG\"].replace({\"N\":0,\"Y\":1,\"U\":2,\"u\":2}, inplace = True)\n"
     ]
    }
   ],
   "source": [
    "ex_data[\"STROKE_TYPE\"] = ex_data[\"STROKE_TYPE\"].replace({'PACS':1, 'LACS':2, 'POCS':3, 'OTH':4, 'TACS':5})\n",
    "\n",
    "ex_data[[\"HAEMORRHAGIC_DIAG\",\"INDETERMINATE_DIAG\"]] = ex_data[[\"HAEMORRHAGIC_DIAG\",\"INDETERMINATE_DIAG\"]].replace({\"N\":0,\"Y\":1})\n",
    "\n",
    "#Remove unknown stroke status\n",
    "ex_data = ex_data[ex_data[\"STROKE\"]!= \"U\"]\n",
    "\n",
    "ex_data[\"ISCHEMIC_DIAG\"].replace({\"N\":0,\"Y\":1,\"U\":2,\"u\":2}, inplace = True)"
   ]
  },
  {
   "cell_type": "code",
   "execution_count": 11,
   "metadata": {},
   "outputs": [
    {
     "data": {
      "text/plain": [
       "STROKE\n",
       "1    18976\n",
       "0      420\n",
       "Name: count, dtype: int64"
      ]
     },
     "execution_count": 11,
     "metadata": {},
     "output_type": "execute_result"
    }
   ],
   "source": [
    "ex_data['STROKE'].value_counts()"
   ]
  },
  {
   "cell_type": "code",
   "execution_count": 12,
   "metadata": {},
   "outputs": [
    {
     "name": "stdout",
     "output_type": "stream",
     "text": [
      "SEX\n",
      "0    10383\n",
      "1     9013\n",
      "Name: count, dtype: int64\n",
      "AGE\n",
      "74    811\n",
      "75    726\n",
      "81    705\n",
      "80    701\n",
      "73    700\n",
      "     ... \n",
      "16      2\n",
      "19      1\n",
      "99      1\n",
      "24      1\n",
      "21      1\n",
      "Name: count, Length: 82, dtype: int64\n",
      "BP\n",
      "160    2479\n",
      "150    2333\n",
      "140    2247\n",
      "170    1884\n",
      "180    1884\n",
      "       ... \n",
      "229       1\n",
      "86        1\n",
      "85        1\n",
      "70        1\n",
      "223       1\n",
      "Name: count, Length: 162, dtype: int64\n",
      "INFARCTION\n",
      "1    12998\n",
      "2     6398\n",
      "Name: count, dtype: int64\n",
      "FACE_DEFICIT\n",
      "2    14073\n",
      "1     5076\n",
      "0      247\n",
      "Name: count, dtype: int64\n",
      "ARM_DEFICIT\n",
      "2    16609\n",
      "1     2664\n",
      "0      123\n",
      "Name: count, dtype: int64\n",
      "LEG_DEFICIT\n",
      "2    14644\n",
      "1     4497\n",
      "0      255\n",
      "Name: count, dtype: int64\n",
      "DYSPHASIA\n",
      "1    10318\n",
      "2     8495\n",
      "0      583\n",
      "Name: count, dtype: int64\n",
      "HEMIANOPIA\n",
      "1    12367\n",
      "0     3936\n",
      "2     3093\n",
      "Name: count, dtype: int64\n",
      "VS_DISORDER\n",
      "1    12782\n",
      "0     3445\n",
      "2     3169\n",
      "Name: count, dtype: int64\n",
      "CEREBELLAR_SIGNS\n",
      "1    15674\n",
      "2     2133\n",
      "0     1589\n",
      "Name: count, dtype: int64\n",
      "STROKE_TYPE\n",
      "1    7842\n",
      "2    4645\n",
      "5    4630\n",
      "3    2222\n",
      "4      57\n",
      "Name: count, dtype: int64\n",
      "ISCHEMIC_DIAG\n",
      "1    17389\n",
      "0     1994\n",
      "2       13\n",
      "Name: count, dtype: int64\n",
      "HAEMORRHAGIC_DIAG\n",
      "0    18797\n",
      "1      599\n",
      "Name: count, dtype: int64\n",
      "INDETERMINATE_DIAG\n",
      "0    18411\n",
      "1      985\n",
      "Name: count, dtype: int64\n",
      "STROKE\n",
      "1    18976\n",
      "0      420\n",
      "Name: count, dtype: int64\n"
     ]
    }
   ],
   "source": [
    "for col in ex_data.columns:\n",
    "    print(ex_data[col].value_counts())\n"
   ]
  },
  {
   "cell_type": "code",
   "execution_count": 13,
   "metadata": {},
   "outputs": [
    {
     "name": "stderr",
     "output_type": "stream",
     "text": [
      "C:\\Users\\User1\\AppData\\Local\\Temp\\ipykernel_11024\\2557158699.py:16: FutureWarning: Setting an item of incompatible dtype is deprecated and will raise an error in a future version of pandas. Value '0.3588566901785303' has dtype incompatible with int64, please explicitly cast to a compatible dtype first.\n",
      "  correlation.loc[i,j] = p_val\n",
      "C:\\Users\\User1\\AppData\\Local\\Temp\\ipykernel_11024\\2557158699.py:16: FutureWarning: Setting an item of incompatible dtype is deprecated and will raise an error in a future version of pandas. Value '4.971229079958363e-05' has dtype incompatible with int64, please explicitly cast to a compatible dtype first.\n",
      "  correlation.loc[i,j] = p_val\n",
      "C:\\Users\\User1\\AppData\\Local\\Temp\\ipykernel_11024\\2557158699.py:16: FutureWarning: Setting an item of incompatible dtype is deprecated and will raise an error in a future version of pandas. Value '1.750513116607999e-05' has dtype incompatible with int64, please explicitly cast to a compatible dtype first.\n",
      "  correlation.loc[i,j] = p_val\n",
      "C:\\Users\\User1\\AppData\\Local\\Temp\\ipykernel_11024\\2557158699.py:16: FutureWarning: Setting an item of incompatible dtype is deprecated and will raise an error in a future version of pandas. Value '3.483038467834161e-10' has dtype incompatible with int64, please explicitly cast to a compatible dtype first.\n",
      "  correlation.loc[i,j] = p_val\n",
      "C:\\Users\\User1\\AppData\\Local\\Temp\\ipykernel_11024\\2557158699.py:16: FutureWarning: Setting an item of incompatible dtype is deprecated and will raise an error in a future version of pandas. Value '6.021051344672318e-06' has dtype incompatible with int64, please explicitly cast to a compatible dtype first.\n",
      "  correlation.loc[i,j] = p_val\n",
      "C:\\Users\\User1\\AppData\\Local\\Temp\\ipykernel_11024\\2557158699.py:16: FutureWarning: Setting an item of incompatible dtype is deprecated and will raise an error in a future version of pandas. Value '2.6621142089809497e-19' has dtype incompatible with int64, please explicitly cast to a compatible dtype first.\n",
      "  correlation.loc[i,j] = p_val\n",
      "C:\\Users\\User1\\AppData\\Local\\Temp\\ipykernel_11024\\2557158699.py:16: FutureWarning: Setting an item of incompatible dtype is deprecated and will raise an error in a future version of pandas. Value '1.4715194635097698e-19' has dtype incompatible with int64, please explicitly cast to a compatible dtype first.\n",
      "  correlation.loc[i,j] = p_val\n",
      "C:\\Users\\User1\\AppData\\Local\\Temp\\ipykernel_11024\\2557158699.py:16: FutureWarning: Setting an item of incompatible dtype is deprecated and will raise an error in a future version of pandas. Value '1.0910551438949553e-11' has dtype incompatible with int64, please explicitly cast to a compatible dtype first.\n",
      "  correlation.loc[i,j] = p_val\n",
      "C:\\Users\\User1\\AppData\\Local\\Temp\\ipykernel_11024\\2557158699.py:16: FutureWarning: Setting an item of incompatible dtype is deprecated and will raise an error in a future version of pandas. Value '1.2925168380588628e-16' has dtype incompatible with int64, please explicitly cast to a compatible dtype first.\n",
      "  correlation.loc[i,j] = p_val\n",
      "C:\\Users\\User1\\AppData\\Local\\Temp\\ipykernel_11024\\2557158699.py:16: FutureWarning: Setting an item of incompatible dtype is deprecated and will raise an error in a future version of pandas. Value '0.03353367565810103' has dtype incompatible with int64, please explicitly cast to a compatible dtype first.\n",
      "  correlation.loc[i,j] = p_val\n",
      "C:\\Users\\User1\\AppData\\Local\\Temp\\ipykernel_11024\\2557158699.py:16: FutureWarning: Setting an item of incompatible dtype is deprecated and will raise an error in a future version of pandas. Value '0.5982296770021527' has dtype incompatible with int64, please explicitly cast to a compatible dtype first.\n",
      "  correlation.loc[i,j] = p_val\n",
      "C:\\Users\\User1\\AppData\\Local\\Temp\\ipykernel_11024\\2557158699.py:16: FutureWarning: Setting an item of incompatible dtype is deprecated and will raise an error in a future version of pandas. Value '0.013873696115154249' has dtype incompatible with int64, please explicitly cast to a compatible dtype first.\n",
      "  correlation.loc[i,j] = p_val\n",
      "C:\\Users\\User1\\AppData\\Local\\Temp\\ipykernel_11024\\2557158699.py:16: FutureWarning: Setting an item of incompatible dtype is deprecated and will raise an error in a future version of pandas. Value '0.47671389538462894' has dtype incompatible with int64, please explicitly cast to a compatible dtype first.\n",
      "  correlation.loc[i,j] = p_val\n",
      "C:\\Users\\User1\\AppData\\Local\\Temp\\ipykernel_11024\\2557158699.py:16: FutureWarning: Setting an item of incompatible dtype is deprecated and will raise an error in a future version of pandas. Value '0.6091479441396591' has dtype incompatible with int64, please explicitly cast to a compatible dtype first.\n",
      "  correlation.loc[i,j] = p_val\n"
     ]
    }
   ],
   "source": [
    "#Chi-square for correlation in the categorical data\n",
    "cat_data = ex_data[['SEX','INFARCTION', 'FACE_DEFICIT', 'ARM_DEFICIT',\n",
    "       'LEG_DEFICIT', 'DYSPHASIA', 'HEMIANOPIA', 'VS_DISORDER',\n",
    "       'CEREBELLAR_SIGNS', 'STROKE_TYPE', 'ISCHEMIC_DIAG', 'HAEMORRHAGIC_DIAG',\n",
    "       'INDETERMINATE_DIAG', 'STROKE']]\n",
    "correlation = pd.DataFrame(data=[(0 for i in range(len(cat_data.columns))) for i in range(len(cat_data.columns))], \n",
    "                         columns=list(cat_data.columns))\n",
    "correlation.set_index(pd.Index(list(cat_data.columns)), inplace = True)\n",
    "\n",
    "# Finding p_value for all columns and putting them in the resultant matrix\n",
    "for i in list(cat_data.columns):\n",
    "    for j in list(cat_data.columns):\n",
    "        if i != j:\n",
    "            chi2_val, p_val = chi2(np.array(cat_data[i].astype(\"float64\")).reshape(-1, 1),\n",
    "                                   np.array(cat_data[j].astype(\"float64\")).reshape(-1, 1))\n",
    "            correlation.loc[i,j] = p_val\n"
   ]
  },
  {
   "cell_type": "code",
   "execution_count": 14,
   "metadata": {},
   "outputs": [
    {
     "data": {
      "image/png": "[encoded data removed]",
      "text/plain": [
       "<Figure size 800x800 with 2 Axes>"
      ]
     },
     "metadata": {},
     "output_type": "display_data"
    }
   ],
   "source": [
    "# Plotting a heatmap\n",
    "plt.figure(figsize=(8,8))\n",
    "sns.heatmap(correlation, cmap='Blues')\n",
    "plt.title('Chi-Square Correlation plot')\n",
    "plt.show()"
   ]
  },
  {
   "cell_type": "code",
   "execution_count": 15,
   "metadata": {
    "scrolled": true
   },
   "outputs": [
    {
     "data": {
      "text/plain": [
       "Index(['SEX', 'AGE', 'BP', 'INFARCTION', 'FACE_DEFICIT', 'ARM_DEFICIT',\n",
       "       'LEG_DEFICIT', 'DYSPHASIA', 'HEMIANOPIA', 'VS_DISORDER',\n",
       "       'CEREBELLAR_SIGNS', 'STROKE_TYPE', 'ISCHEMIC_DIAG', 'HAEMORRHAGIC_DIAG',\n",
       "       'INDETERMINATE_DIAG', 'STROKE'],\n",
       "      dtype='object')"
      ]
     },
     "execution_count": 15,
     "metadata": {},
     "output_type": "execute_result"
    }
   ],
   "source": [
    "ex_data.columns"
   ]
  },
  {
   "cell_type": "code",
   "execution_count": 16,
   "metadata": {},
   "outputs": [
    {
     "data": {
      "text/plain": [
       "19396"
      ]
     },
     "execution_count": 16,
     "metadata": {},
     "output_type": "execute_result"
    }
   ],
   "source": [
    "len(ex_data)"
   ]
  },
  {
   "cell_type": "code",
   "execution_count": 17,
   "metadata": {},
   "outputs": [],
   "source": [
    "#Feature selection\n",
    "X = ex_data[['SEX', 'AGE', 'BP', 'INFARCTION', 'FACE_DEFICIT', 'ARM_DEFICIT',\n",
    "       'LEG_DEFICIT', 'DYSPHASIA', 'HEMIANOPIA', 'VS_DISORDER',\n",
    "       'CEREBELLAR_SIGNS']].astype(\"float64\")\n",
    "y = ex_data['STROKE'].astype(\"category\")"
   ]
  },
  {
   "cell_type": "code",
   "execution_count": 18,
   "metadata": {},
   "outputs": [
    {
     "name": "stdout",
     "output_type": "stream",
     "text": [
      "15516\n",
      "3880\n",
      "15516\n",
      "3880\n"
     ]
    }
   ],
   "source": [
    "X_train,X_test,y_train,y_test = train_test_split(X,y,test_size = 0.2,random_state = 45)\n",
    "print(len(X_train))\n",
    "print(len(X_test))\n",
    "print(len(y_train))\n",
    "print(len(y_test))"
   ]
  },
  {
   "cell_type": "markdown",
   "metadata": {},
   "source": [
    "### Before Data Balancing"
   ]
  },
  {
   "cell_type": "code",
   "execution_count": 19,
   "metadata": {},
   "outputs": [
    {
     "name": "stderr",
     "output_type": "stream",
     "text": [
      "C:\\Users\\User1\\AppData\\Local\\Temp\\ipykernel_11024\\220123388.py:3: FutureWarning: \n",
      "\n",
      "Passing `palette` without assigning `hue` is deprecated and will be removed in v0.14.0. Assign the `y` variable to `hue` and set `legend=False` for the same effect.\n",
      "\n",
      "  sns.countplot(y_train,\n"
     ]
    },
    {
     "data": {
      "text/plain": [
       "Text(0.5, 1.0, 'Classes in the training set before balancing')"
      ]
     },
     "execution_count": 19,
     "metadata": {},
     "output_type": "execute_result"
    },
    {
     "data": {
      "image/png": "[encoded data removed]",
      "text/plain": [
       "<Figure size 800x800 with 1 Axes>"
      ]
     },
     "metadata": {},
     "output_type": "display_data"
    }
   ],
   "source": [
    "#classes after data balancing\n",
    "plt.figure(figsize = (8,8))\n",
    "sns.countplot(y_train,\n",
    "             palette = \"dark\")\n",
    "plt.title(\"Classes in the training set before balancing\",\n",
    "         fontdict={\"fontsize\":15})"
   ]
  },
  {
   "cell_type": "code",
   "execution_count": 25,
   "metadata": {},
   "outputs": [
    {
     "name": "stdout",
     "output_type": "stream",
     "text": [
      "[0.86082474 0.81696313 0.80458881 0.8716164  0.82882186]\n",
      "              precision    recall  f1-score   support\n",
      "\n",
      "           0       0.04      0.27      0.07       420\n",
      "           1       0.98      0.85      0.91     18976\n",
      "\n",
      "    accuracy                           0.84     19396\n",
      "   macro avg       0.51      0.56      0.49     19396\n",
      "weighted avg       0.96      0.84      0.89     19396\n",
      "\n",
      "0.16343575995050527\n"
     ]
    },
    {
     "data": {
      "image/png": "[encoded data removed]",
      "text/plain": [
       "<Figure size 640x480 with 2 Axes>"
      ]
     },
     "metadata": {},
     "output_type": "display_data"
    }
   ],
   "source": [
    "from sklearn.model_selection import cross_val_score, cross_val_predict,StratifiedKFold\n",
    "kf = StratifiedKFold(n_splits=5, shuffle=True, random_state=42)\n",
    "svm = SVC(class_weight = 'balanced') \n",
    "cross_val_results = cross_val_score(svm, X, y, cv=kf)\n",
    "print(cross_val_results)\n",
    "svm_y_pred = cross_val_predict(svm, X,y,cv=kf)\n",
    "\n",
    "# Step 5: Generate a classification report\n",
    "report = classification_report(y, svm_y_pred)\n",
    "print(report)\n",
    "print(mean_squared_error(y, svm_y_pred))\n",
    "cm = confusion_matrix(y, svm_y_pred, labels=[0,1])\n",
    "disp = ConfusionMatrixDisplay(confusion_matrix=cm, display_labels=[0,1])\n",
    "disp.plot()\n",
    "plt.show()"
   ]
  },
  {
   "cell_type": "code",
   "execution_count": null,
   "metadata": {},
   "outputs": [],
   "source": [
    "rfc = RandomForestClassifier()\n",
    "rfc.fit(X_train, y_train)\n",
    "pred = rfc.predict(X_test)\n",
    "print(classification_report(y_test, pred))\n",
    "mean_squared_error(y_test, pred)"
   ]
  },
  {
   "cell_type": "code",
   "execution_count": 44,
   "metadata": {},
   "outputs": [
    {
     "name": "stdout",
     "output_type": "stream",
     "text": [
      "[0.97525263 0.97731491 0.9750464  0.97298412]\n",
      "              precision    recall  f1-score   support\n",
      "\n",
      "           0       0.06      0.01      0.02       420\n",
      "           1       0.98      1.00      0.99     18976\n",
      "\n",
      "    accuracy                           0.98     19396\n",
      "   macro avg       0.52      0.50      0.50     19396\n",
      "weighted avg       0.96      0.98      0.97     19396\n",
      "\n",
      "0.024850484636007423\n"
     ]
    }
   ],
   "source": [
    "from sklearn.model_selection import cross_val_score, cross_val_predict, KFold\n",
    "kf = KFold(n_splits=4, shuffle=True, random_state=42)\n",
    "rfc = RandomForestClassifier() \n",
    "cross_val_results = cross_val_score(rfc, X, y, cv=kf)\n",
    "print(cross_val_results)\n",
    "rfc_y_pred = cross_val_predict(rfc, X, y, cv=kf)\n",
    "\n",
    "# Step 5: Generate a classification report\n",
    "report = classification_report(y, rfc_y_pred)\n",
    "print(report)\n",
    "print(mean_squared_error(y, rfc_y_pred))"
   ]
  },
  {
   "cell_type": "code",
   "execution_count": 45,
   "metadata": {},
   "outputs": [
    {
     "data": {
      "image/png": "[encoded data removed]",
      "text/plain": [
       "<Figure size 640x480 with 2 Axes>"
      ]
     },
     "metadata": {},
     "output_type": "display_data"
    }
   ],
   "source": [
    "cm = confusion_matrix(y, rfc_y_pred, labels=[0,1])\n",
    "disp = ConfusionMatrixDisplay(confusion_matrix=cm, display_labels=[0,1])\n",
    "disp.plot()\n",
    "plt.show()"
   ]
  },
  {
   "cell_type": "code",
   "execution_count": 27,
   "metadata": {},
   "outputs": [
    {
     "name": "stdout",
     "output_type": "stream",
     "text": [
      "              precision    recall  f1-score   support\n",
      "\n",
      "           0       0.00      0.00      0.00        83\n",
      "           1       0.98      1.00      0.99      3797\n",
      "\n",
      "    accuracy                           0.98      3880\n",
      "   macro avg       0.49      0.50      0.49      3880\n",
      "weighted avg       0.96      0.98      0.97      3880\n",
      "\n"
     ]
    },
    {
     "name": "stderr",
     "output_type": "stream",
     "text": [
      "C:\\Users\\User1\\anaconda3\\Lib\\site-packages\\sklearn\\linear_model\\_logistic.py:469: ConvergenceWarning: lbfgs failed to converge (status=1):\n",
      "STOP: TOTAL NO. of ITERATIONS REACHED LIMIT.\n",
      "\n",
      "Increase the number of iterations (max_iter) or scale the data as shown in:\n",
      "    https://scikit-learn.org/stable/modules/preprocessing.html\n",
      "Please also refer to the documentation for alternative solver options:\n",
      "    https://scikit-learn.org/stable/modules/linear_model.html#logistic-regression\n",
      "  n_iter_i = _check_optimize_result(\n",
      "C:\\Users\\User1\\anaconda3\\Lib\\site-packages\\sklearn\\metrics\\_classification.py:1509: UndefinedMetricWarning: Precision is ill-defined and being set to 0.0 in labels with no predicted samples. Use `zero_division` parameter to control this behavior.\n",
      "  _warn_prf(average, modifier, f\"{metric.capitalize()} is\", len(result))\n",
      "C:\\Users\\User1\\anaconda3\\Lib\\site-packages\\sklearn\\metrics\\_classification.py:1509: UndefinedMetricWarning: Precision is ill-defined and being set to 0.0 in labels with no predicted samples. Use `zero_division` parameter to control this behavior.\n",
      "  _warn_prf(average, modifier, f\"{metric.capitalize()} is\", len(result))\n",
      "C:\\Users\\User1\\anaconda3\\Lib\\site-packages\\sklearn\\metrics\\_classification.py:1509: UndefinedMetricWarning: Precision is ill-defined and being set to 0.0 in labels with no predicted samples. Use `zero_division` parameter to control this behavior.\n",
      "  _warn_prf(average, modifier, f\"{metric.capitalize()} is\", len(result))\n"
     ]
    },
    {
     "data": {
      "text/plain": [
       "0.021391752577319588"
      ]
     },
     "execution_count": 27,
     "metadata": {},
     "output_type": "execute_result"
    }
   ],
   "source": [
    "#Logistic regression model\n",
    "lg = LogisticRegression()\n",
    "lg.fit(X_train, y_train)\n",
    "lg_pred = lg.predict(X_test)\n",
    "print(classification_report(y_test, lg_pred))\n",
    "mean_squared_error(y_test, lg_pred)"
   ]
  },
  {
   "cell_type": "code",
   "execution_count": 39,
   "metadata": {},
   "outputs": [
    {
     "name": "stderr",
     "output_type": "stream",
     "text": [
      "C:\\Users\\User1\\anaconda3\\Lib\\site-packages\\sklearn\\linear_model\\_logistic.py:469: ConvergenceWarning: lbfgs failed to converge (status=1):\n",
      "STOP: TOTAL NO. of ITERATIONS REACHED LIMIT.\n",
      "\n",
      "Increase the number of iterations (max_iter) or scale the data as shown in:\n",
      "    https://scikit-learn.org/stable/modules/preprocessing.html\n",
      "Please also refer to the documentation for alternative solver options:\n",
      "    https://scikit-learn.org/stable/modules/linear_model.html#logistic-regression\n",
      "  n_iter_i = _check_optimize_result(\n",
      "C:\\Users\\User1\\anaconda3\\Lib\\site-packages\\sklearn\\linear_model\\_logistic.py:469: ConvergenceWarning: lbfgs failed to converge (status=1):\n",
      "STOP: TOTAL NO. of ITERATIONS REACHED LIMIT.\n",
      "\n",
      "Increase the number of iterations (max_iter) or scale the data as shown in:\n",
      "    https://scikit-learn.org/stable/modules/preprocessing.html\n",
      "Please also refer to the documentation for alternative solver options:\n",
      "    https://scikit-learn.org/stable/modules/linear_model.html#logistic-regression\n",
      "  n_iter_i = _check_optimize_result(\n",
      "C:\\Users\\User1\\anaconda3\\Lib\\site-packages\\sklearn\\linear_model\\_logistic.py:469: ConvergenceWarning: lbfgs failed to converge (status=1):\n",
      "STOP: TOTAL NO. of ITERATIONS REACHED LIMIT.\n",
      "\n",
      "Increase the number of iterations (max_iter) or scale the data as shown in:\n",
      "    https://scikit-learn.org/stable/modules/preprocessing.html\n",
      "Please also refer to the documentation for alternative solver options:\n",
      "    https://scikit-learn.org/stable/modules/linear_model.html#logistic-regression\n",
      "  n_iter_i = _check_optimize_result(\n",
      "C:\\Users\\User1\\anaconda3\\Lib\\site-packages\\sklearn\\linear_model\\_logistic.py:469: ConvergenceWarning: lbfgs failed to converge (status=1):\n",
      "STOP: TOTAL NO. of ITERATIONS REACHED LIMIT.\n",
      "\n",
      "Increase the number of iterations (max_iter) or scale the data as shown in:\n",
      "    https://scikit-learn.org/stable/modules/preprocessing.html\n",
      "Please also refer to the documentation for alternative solver options:\n",
      "    https://scikit-learn.org/stable/modules/linear_model.html#logistic-regression\n",
      "  n_iter_i = _check_optimize_result(\n"
     ]
    },
    {
     "name": "stdout",
     "output_type": "stream",
     "text": [
      "[0.97917096 0.9802021  0.97793359 0.97607754]\n"
     ]
    },
    {
     "name": "stderr",
     "output_type": "stream",
     "text": [
      "C:\\Users\\User1\\anaconda3\\Lib\\site-packages\\sklearn\\linear_model\\_logistic.py:469: ConvergenceWarning: lbfgs failed to converge (status=1):\n",
      "STOP: TOTAL NO. of ITERATIONS REACHED LIMIT.\n",
      "\n",
      "Increase the number of iterations (max_iter) or scale the data as shown in:\n",
      "    https://scikit-learn.org/stable/modules/preprocessing.html\n",
      "Please also refer to the documentation for alternative solver options:\n",
      "    https://scikit-learn.org/stable/modules/linear_model.html#logistic-regression\n",
      "  n_iter_i = _check_optimize_result(\n",
      "C:\\Users\\User1\\anaconda3\\Lib\\site-packages\\sklearn\\linear_model\\_logistic.py:469: ConvergenceWarning: lbfgs failed to converge (status=1):\n",
      "STOP: TOTAL NO. of ITERATIONS REACHED LIMIT.\n",
      "\n",
      "Increase the number of iterations (max_iter) or scale the data as shown in:\n",
      "    https://scikit-learn.org/stable/modules/preprocessing.html\n",
      "Please also refer to the documentation for alternative solver options:\n",
      "    https://scikit-learn.org/stable/modules/linear_model.html#logistic-regression\n",
      "  n_iter_i = _check_optimize_result(\n",
      "C:\\Users\\User1\\anaconda3\\Lib\\site-packages\\sklearn\\linear_model\\_logistic.py:469: ConvergenceWarning: lbfgs failed to converge (status=1):\n",
      "STOP: TOTAL NO. of ITERATIONS REACHED LIMIT.\n",
      "\n",
      "Increase the number of iterations (max_iter) or scale the data as shown in:\n",
      "    https://scikit-learn.org/stable/modules/preprocessing.html\n",
      "Please also refer to the documentation for alternative solver options:\n",
      "    https://scikit-learn.org/stable/modules/linear_model.html#logistic-regression\n",
      "  n_iter_i = _check_optimize_result(\n",
      "C:\\Users\\User1\\anaconda3\\Lib\\site-packages\\sklearn\\linear_model\\_logistic.py:469: ConvergenceWarning: lbfgs failed to converge (status=1):\n",
      "STOP: TOTAL NO. of ITERATIONS REACHED LIMIT.\n",
      "\n",
      "Increase the number of iterations (max_iter) or scale the data as shown in:\n",
      "    https://scikit-learn.org/stable/modules/preprocessing.html\n",
      "Please also refer to the documentation for alternative solver options:\n",
      "    https://scikit-learn.org/stable/modules/linear_model.html#logistic-regression\n",
      "  n_iter_i = _check_optimize_result(\n",
      "C:\\Users\\User1\\anaconda3\\Lib\\site-packages\\sklearn\\metrics\\_classification.py:1509: UndefinedMetricWarning: Precision is ill-defined and being set to 0.0 in labels with no predicted samples. Use `zero_division` parameter to control this behavior.\n",
      "  _warn_prf(average, modifier, f\"{metric.capitalize()} is\", len(result))\n",
      "C:\\Users\\User1\\anaconda3\\Lib\\site-packages\\sklearn\\metrics\\_classification.py:1509: UndefinedMetricWarning: Precision is ill-defined and being set to 0.0 in labels with no predicted samples. Use `zero_division` parameter to control this behavior.\n",
      "  _warn_prf(average, modifier, f\"{metric.capitalize()} is\", len(result))\n"
     ]
    },
    {
     "name": "stdout",
     "output_type": "stream",
     "text": [
      "              precision    recall  f1-score   support\n",
      "\n",
      "           0       0.00      0.00      0.00       420\n",
      "           1       0.98      1.00      0.99     18976\n",
      "\n",
      "    accuracy                           0.98     19396\n",
      "   macro avg       0.49      0.50      0.49     19396\n",
      "weighted avg       0.96      0.98      0.97     19396\n",
      "\n",
      "0.021653949267890285\n"
     ]
    },
    {
     "name": "stderr",
     "output_type": "stream",
     "text": [
      "C:\\Users\\User1\\anaconda3\\Lib\\site-packages\\sklearn\\metrics\\_classification.py:1509: UndefinedMetricWarning: Precision is ill-defined and being set to 0.0 in labels with no predicted samples. Use `zero_division` parameter to control this behavior.\n",
      "  _warn_prf(average, modifier, f\"{metric.capitalize()} is\", len(result))\n"
     ]
    }
   ],
   "source": [
    "from sklearn.model_selection import cross_val_score, cross_val_predict, KFold\n",
    "kf = KFold(n_splits=4, shuffle=True, random_state=42)\n",
    "lg = LogisticRegression() \n",
    "cross_val_results = cross_val_score(lg, X, y, cv=kf)\n",
    "print(cross_val_results)\n",
    "lg_y_pred = cross_val_predict(lg, X, y, cv=kf)\n",
    "\n",
    "# Step 5: Generate a classification report\n",
    "report = classification_report(y, lg_y_pred)\n",
    "print(report)\n",
    "print(mean_squared_error(y, lg_y_pred))"
   ]
  },
  {
   "cell_type": "code",
   "execution_count": 46,
   "metadata": {},
   "outputs": [
    {
     "data": {
      "image/png": "[encoded data removed]",
      "text/plain": [
       "<Figure size 640x480 with 2 Axes>"
      ]
     },
     "metadata": {},
     "output_type": "display_data"
    }
   ],
   "source": [
    "cm = confusion_matrix(y, lg_y_pred, labels=[0,1])\n",
    "disp = ConfusionMatrixDisplay(confusion_matrix=cm, display_labels=[0,1])\n",
    "disp.plot()\n",
    "plt.show()"
   ]
  },
  {
   "cell_type": "markdown",
   "metadata": {},
   "source": [
    "### Data balancing"
   ]
  },
  {
   "cell_type": "code",
   "execution_count": null,
   "metadata": {},
   "outputs": [],
   "source": [
    "#data balancing for only training set\n",
    "smote = SMOTE(random_state=42)\n",
    "X_train_smote, y_train_smote= smote.fit_resample(X_train, y_train)\n",
    "len(X_train_smote)"
   ]
  },
  {
   "cell_type": "code",
   "execution_count": null,
   "metadata": {},
   "outputs": [],
   "source": [
    "#classes after data balancing\n",
    "plt.figure(figsize = (8,8))\n",
    "sns.countplot(y_train_smote,\n",
    "             palette = \"dark\")\n",
    "plt.title(\"Classes in the training set after balancing\",\n",
    "         fontdict={\"fontsize\":15})"
   ]
  },
  {
   "cell_type": "code",
   "execution_count": 27,
   "metadata": {
    "scrolled": true
   },
   "outputs": [
    {
     "name": "stdout",
     "output_type": "stream",
     "text": [
      "              precision    recall  f1-score   support\n",
      "\n",
      "           0       0.04      0.34      0.07        83\n",
      "           1       0.98      0.82      0.90      3797\n",
      "\n",
      "    accuracy                           0.81      3880\n",
      "   macro avg       0.51      0.58      0.48      3880\n",
      "weighted avg       0.96      0.81      0.88      3880\n",
      "\n"
     ]
    }
   ],
   "source": [
    "svm = SVC()\n",
    "svm.fit(X_train_smote, y_train_smote)\n",
    "svm_pred = svm.predict(X_test)\n",
    "print(classification_report(y_test,svm_pred))"
   ]
  },
  {
   "cell_type": "code",
   "execution_count": null,
   "metadata": {},
   "outputs": [],
   "source": [
    "from sklearn.model_selection import cross_val_score, cross_val_predict, KFold,StratifiedKFold\n",
    "kf = StratifiedKFold(n_splits=5, shuffle=True, random_state=42)\n",
    "svm = SVC() \n",
    "cross_val_results = cross_val_score(svm, X_train_smote, y_train_smote, cv=kf)\n",
    "print(cross_val_results)\n",
    "svm_y_pred = cross_val_predict(svm, X_train_smote, y_train_smote, cv=kf)\n",
    "\n",
    "# Step 5: Generate a classification report\n",
    "report = classification_report(y_train, svm_y_pred)\n",
    "print(report)\n",
    "print(mean_squared_error(y_train, svm_y_pred))"
   ]
  },
  {
   "cell_type": "code",
   "execution_count": 66,
   "metadata": {},
   "outputs": [
    {
     "name": "stdout",
     "output_type": "stream",
     "text": [
      "              precision    recall  f1-score   support\n",
      "\n",
      "           0       0.05      0.32      0.08        84\n",
      "           1       0.98      0.86      0.92      3796\n",
      "\n",
      "    accuracy                           0.85      3880\n",
      "   macro avg       0.52      0.59      0.50      3880\n",
      "weighted avg       0.96      0.85      0.90      3880\n",
      "\n",
      "              precision    recall  f1-score   support\n",
      "\n",
      "           0       0.04      0.35      0.07       168\n",
      "           1       0.98      0.82      0.89      7591\n",
      "\n",
      "    accuracy                           0.81      7759\n",
      "   macro avg       0.51      0.59      0.48      7759\n",
      "weighted avg       0.96      0.81      0.88      7759\n",
      "\n",
      "              precision    recall  f1-score   support\n",
      "\n",
      "           0       0.04      0.36      0.07       252\n",
      "           1       0.98      0.80      0.88     11386\n",
      "\n",
      "    accuracy                           0.79     11638\n",
      "   macro avg       0.51      0.58      0.48     11638\n",
      "weighted avg       0.96      0.79      0.87     11638\n",
      "\n",
      "              precision    recall  f1-score   support\n",
      "\n",
      "           0       0.04      0.35      0.07       336\n",
      "           1       0.98      0.82      0.89     15181\n",
      "\n",
      "    accuracy                           0.81     15517\n",
      "   macro avg       0.51      0.58      0.48     15517\n",
      "weighted avg       0.96      0.81      0.87     15517\n",
      "\n",
      "              precision    recall  f1-score   support\n",
      "\n",
      "           0       0.04      0.35      0.07       420\n",
      "           1       0.98      0.82      0.89     18976\n",
      "\n",
      "    accuracy                           0.81     19396\n",
      "   macro avg       0.51      0.58      0.48     19396\n",
      "weighted avg       0.96      0.81      0.87     19396\n",
      "\n"
     ]
    }
   ],
   "source": [
    "from sklearn.model_selection import cross_val_score, cross_val_predict, KFold, StratifiedKFold\n",
    "svm = SVC() \n",
    "\n",
    "# Set up Stratified K-Fold cross-validation\n",
    "skf = StratifiedKFold(n_splits=5, shuffle=True, random_state=42)\n",
    "\n",
    "# Initialize variables to store results\n",
    "all_y_true = []\n",
    "all_y_pred = []\n",
    "\n",
    "for train_index, test_index in skf.split(X, y):\n",
    "    X_train, X_test = X.iloc[train_index], X.iloc[test_index]  # Using iloc to avoid index issues\n",
    "    y_train, y_test = y.iloc[train_index], y.iloc[test_index]\n",
    "\n",
    "    # Apply SMOTE to the training data\n",
    "    smote = SMOTE(random_state=42)\n",
    "    X_train_res, y_train_res = smote.fit_resample(X_train, y_train)\n",
    "    svm.fit(X_train_res, y_train_res)\n",
    "    y_pred = svm.predict(X_test)\n",
    "        \n",
    "    all_y_true.extend(y_test)\n",
    "    all_y_pred.extend(y_pred)\n",
    "    \n",
    "    # Generate a classification report\n",
    "    report = classification_report(all_y_true, all_y_pred)\n",
    "    print(report)\n",
    "\n",
    "#print(mean_squared_error(y, svm_y_pred))"
   ]
  },
  {
   "cell_type": "code",
   "execution_count": 63,
   "metadata": {},
   "outputs": [],
   "source": [
    "for train_index, test_index in skf.split(X, y):\n",
    "    X_train, X_test = X.iloc[train_index], X.iloc[test_index]\n",
    "    y_train, y_test = y.iloc[train_index], y.iloc[test_index]"
   ]
  },
  {
   "cell_type": "code",
   "execution_count": 28,
   "metadata": {},
   "outputs": [
    {
     "data": {
      "image/png": "[encoded data removed]",
      "text/plain": [
       "<Figure size 432x288 with 2 Axes>"
      ]
     },
     "metadata": {},
     "output_type": "display_data"
    }
   ],
   "source": [
    "cm = confusion_matrix(y_test, svm_pred, labels=svm.classes_)\n",
    "disp = ConfusionMatrixDisplay(confusion_matrix=cm, display_labels=svm.classes_)\n",
    "disp.plot()\n",
    "plt.show()"
   ]
  },
  {
   "cell_type": "code",
   "execution_count": 29,
   "metadata": {},
   "outputs": [
    {
     "name": "stdout",
     "output_type": "stream",
     "text": [
      "              precision    recall  f1-score   support\n",
      "\n",
      "           0       0.10      0.02      0.04        83\n",
      "           1       0.98      0.99      0.99      3797\n",
      "\n",
      "    accuracy                           0.97      3880\n",
      "   macro avg       0.54      0.51      0.51      3880\n",
      "weighted avg       0.96      0.97      0.97      3880\n",
      "\n"
     ]
    }
   ],
   "source": [
    "rfc = RandomForestClassifier()\n",
    "rfc.fit(X_train_smote, y_train_smote)\n",
    "pred = rfc.predict(X_test)\n",
    "rfc_accuracy = accuracy_score(y_test,pred)\n",
    "\n",
    "print(classification_report(y_test, pred))"
   ]
  },
  {
   "cell_type": "code",
   "execution_count": null,
   "metadata": {},
   "outputs": [],
   "source": [
    "from sklearn.model_selection import cross_val_score, cross_val_predict, KFold\n",
    "kf = KFold(n_splits=4, shuffle=True, random_state=42)\n",
    "rfc = RandomForestClassifier()\n",
    "cross_val_results = cross_val_score(rfc, X_smote, y_smote, cv=kf)\n",
    "print(cross_val_results)\n",
    "rfc_y_pred = cross_val_predict(rfc, X_smote, y_smote, cv=kf)\n",
    "\n",
    "# Step 5: Generate a classification report\n",
    "report = classification_report(y, rfc_y_pred)\n",
    "print(report)\n",
    "print(mean_squared_error(y, rfc_y_pred))"
   ]
  },
  {
   "cell_type": "code",
   "execution_count": 30,
   "metadata": {},
   "outputs": [
    {
     "data": {
      "image/png": "[encoded data removed]",
      "text/plain": [
       "<Figure size 432x288 with 2 Axes>"
      ]
     },
     "metadata": {},
     "output_type": "display_data"
    }
   ],
   "source": [
    "cm = confusion_matrix(y_test, pred, labels=rfc.classes_)\n",
    "disp = ConfusionMatrixDisplay(confusion_matrix=cm, display_labels=rfc.classes_)\n",
    "disp.plot()\n",
    "plt.show()"
   ]
  },
  {
   "cell_type": "code",
   "execution_count": 31,
   "metadata": {},
   "outputs": [
    {
     "name": "stdout",
     "output_type": "stream",
     "text": [
      "              precision    recall  f1-score   support\n",
      "\n",
      "           0       0.04      0.66      0.08        83\n",
      "           1       0.99      0.67      0.80      3797\n",
      "\n",
      "    accuracy                           0.67      3880\n",
      "   macro avg       0.52      0.67      0.44      3880\n",
      "weighted avg       0.97      0.67      0.79      3880\n",
      "\n"
     ]
    },
    {
     "name": "stderr",
     "output_type": "stream",
     "text": [
      "C:\\Users\\user\\anaconda3\\lib\\site-packages\\sklearn\\linear_model\\_logistic.py:460: ConvergenceWarning: lbfgs failed to converge (status=1):\n",
      "STOP: TOTAL NO. of ITERATIONS REACHED LIMIT.\n",
      "\n",
      "Increase the number of iterations (max_iter) or scale the data as shown in:\n",
      "    https://scikit-learn.org/stable/modules/preprocessing.html\n",
      "Please also refer to the documentation for alternative solver options:\n",
      "    https://scikit-learn.org/stable/modules/linear_model.html#logistic-regression\n",
      "  n_iter_i = _check_optimize_result(\n"
     ]
    }
   ],
   "source": [
    "#Logistic regression model\n",
    "lg = LogisticRegression()\n",
    "lg.fit(X_train_smote, y_train_smote)\n",
    "lg_pred = lg.predict(X_test)\n",
    "lg_accuracy = accuracy_score(y_test,lg_pred)\n",
    "print(classification_report(y_test, lg_pred))"
   ]
  },
  {
   "cell_type": "code",
   "execution_count": null,
   "metadata": {},
   "outputs": [],
   "source": [
    "from sklearn.model_selection import cross_val_score, cross_val_predict, KFold\n",
    "kf = KFold(n_splits=4, shuffle=True, random_state=42)\n",
    "lg = LogisticRegression() \n",
    "cross_val_results = cross_val_score(lg, X_smote, y_smote, cv=kf)\n",
    "print(cross_val_results)\n",
    "lg_y_pred = cross_val_predict(lg, X_smote, y_smote, cv=kf)\n",
    "\n",
    "# Step 5: Generate a classification report\n",
    "report = classification_report(y, lg_y_pred)\n",
    "print(report)\n",
    "print(mean_squared_error(y, lg_y_pred))"
   ]
  },
  {
   "cell_type": "code",
   "execution_count": 32,
   "metadata": {},
   "outputs": [
    {
     "data": {
      "image/png": "[encoded data removed]",
      "text/plain": [
       "<Figure size 432x288 with 2 Axes>"
      ]
     },
     "metadata": {},
     "output_type": "display_data"
    }
   ],
   "source": [
    "cm = confusion_matrix(y_test, lg_pred, labels=lg.classes_)\n",
    "disp = ConfusionMatrixDisplay(confusion_matrix=cm, display_labels=lg.classes_)\n",
    "disp.plot()\n",
    "plt.show()"
   ]
  },
  {
   "cell_type": "code",
   "execution_count": 33,
   "metadata": {},
   "outputs": [],
   "source": [
    "accuracy = pd.DataFrame({\"Models\": [\"Logistic Regression\",\"SVM\",\"Random Forest\"],\n",
    "                         \"Accuracy_scores\": [accuracy_score(y_test, lg_pred),\n",
    "                                           accuracy_score(y_test, svm_pred),\n",
    "                                           accuracy_score(y_test, pred)]})"
   ]
  },
  {
   "cell_type": "code",
   "execution_count": 34,
   "metadata": {},
   "outputs": [
    {
     "data": {
      "text/plain": [
       "([0, 1, 2], [Text(0, 0, ''), Text(0, 0, ''), Text(0, 0, '')])"
      ]
     },
     "execution_count": 34,
     "metadata": {},
     "output_type": "execute_result"
    },
    {
     "data": {
      "image/png": "[encoded data removed]",
      "text/plain": [
       "<Figure size 432x288 with 1 Axes>"
      ]
     },
     "metadata": {},
     "output_type": "display_data"
    }
   ],
   "source": [
    "plt.title(\"Accuracy scores of each model\")\n",
    "plt.bar(accuracy[\"Models\"],\n",
    "        accuracy[\"Accuracy_scores\"],\n",
    "       color = [\"red\", \"blue\",\"green\"])\n",
    "plt.xticks(rotation=60)"
   ]
  },
  {
   "cell_type": "code",
   "execution_count": 35,
   "metadata": {},
   "outputs": [
    {
     "data": {
      "text/html": [
       "<div>\n",
       "<style scoped>\n",
       "    .dataframe tbody tr th:only-of-type {\n",
       "        vertical-align: middle;\n",
       "    }\n",
       "\n",
       "    .dataframe tbody tr th {\n",
       "        vertical-align: top;\n",
       "    }\n",
       "\n",
       "    .dataframe thead th {\n",
       "        text-align: right;\n",
       "    }\n",
       "</style>\n",
       "<table border=\"1\" class=\"dataframe\">\n",
       "  <thead>\n",
       "    <tr style=\"text-align: right;\">\n",
       "      <th></th>\n",
       "      <th>Models</th>\n",
       "      <th>MSE</th>\n",
       "    </tr>\n",
       "  </thead>\n",
       "  <tbody>\n",
       "    <tr>\n",
       "      <th>0</th>\n",
       "      <td>Logistic Regression</td>\n",
       "      <td>0.326546</td>\n",
       "    </tr>\n",
       "    <tr>\n",
       "      <th>1</th>\n",
       "      <td>SVM</td>\n",
       "      <td>0.187629</td>\n",
       "    </tr>\n",
       "    <tr>\n",
       "      <th>2</th>\n",
       "      <td>Random Forest</td>\n",
       "      <td>0.025773</td>\n",
       "    </tr>\n",
       "  </tbody>\n",
       "</table>\n",
       "</div>"
      ],
      "text/plain": [
       "                Models       MSE\n",
       "0  Logistic Regression  0.326546\n",
       "1                  SVM  0.187629\n",
       "2        Random Forest  0.025773"
      ]
     },
     "execution_count": 35,
     "metadata": {},
     "output_type": "execute_result"
    }
   ],
   "source": [
    "MSE = pd.DataFrame({\"Models\": [\"Logistic Regression\",\"SVM\",\"Random Forest\"],\n",
    "                         \"MSE\": [mean_squared_error(y_test, lg_pred),\n",
    "                                           mean_squared_error(y_test, svm_pred),\n",
    "                                           mean_squared_error(y_test, pred)]})\n",
    "MSE"
   ]
  },
  {
   "cell_type": "code",
   "execution_count": 36,
   "metadata": {},
   "outputs": [
    {
     "data": {
      "text/plain": [
       "([0, 1, 2], [Text(0, 0, ''), Text(0, 0, ''), Text(0, 0, '')])"
      ]
     },
     "execution_count": 36,
     "metadata": {},
     "output_type": "execute_result"
    },
    {
     "data": {
      "image/png": "[encoded data removed]",
      "text/plain": [
       "<Figure size 432x288 with 1 Axes>"
      ]
     },
     "metadata": {},
     "output_type": "display_data"
    }
   ],
   "source": [
    "plt.title(\"Mean square error of each model\")\n",
    "plt.bar(\"Models\",\n",
    "        \"MSE\",\n",
    "        data = MSE,\n",
    "       color = [\"maroon\", \"purple\",\"cyan\"])\n",
    "plt.xticks(rotation=60)"
   ]
  },
  {
   "cell_type": "code",
   "execution_count": 37,
   "metadata": {},
   "outputs": [
    {
     "name": "stdout",
     "output_type": "stream",
     "text": [
      "SEX 0.08593798938711694\n",
      "AGE 0.06742915679275678\n",
      "BP 0.05187549650433798\n",
      "INFARCTION 0.1323957095886191\n",
      "FACE_DEFICIT 0.17725190129780402\n",
      "ARM_DEFICIT 0.08345430727925762\n",
      "LEG_DEFICIT 0.13718709220350328\n",
      "DYSPHASIA 0.1197588937820161\n",
      "HEMIANOPIA 0.048528839410377174\n",
      "VS_DISORDER 0.053362059262588746\n",
      "CEREBELLAR_SIGNS 0.042818554491622286\n"
     ]
    },
    {
     "data": {
      "text/plain": [
       "Text(0.5, 1.0, 'Effect of each variable on the Random Forest model')"
      ]
     },
     "execution_count": 37,
     "metadata": {},
     "output_type": "execute_result"
    },
    {
     "data": {
      "image/png": "[encoded data removed]",
      "text/plain": [
       "<Figure size 720x576 with 1 Axes>"
      ]
     },
     "metadata": {},
     "output_type": "display_data"
    }
   ],
   "source": [
    "#The effect of the variables on the model\n",
    "variables =[]\n",
    "scores = []\n",
    "for name, score in zip(X_train_smote, rfc.feature_importances_):\n",
    "    print(name, score)\n",
    "    variables.append(name)\n",
    "    scores.append(score)\n",
    "    \n",
    "rfc_effect = pd.DataFrame({\"Variables\": variables,\n",
    "                         \"Effect\" : scores})\n",
    "plt.figure(figsize = (10,8))\n",
    "plt.bar(rfc_effect[\"Variables\"],\n",
    "        rfc_effect[\"Effect\"])\n",
    "plt.xticks(rotation=60)\n",
    "plt.title(\"Effect of each variable on the Random Forest model\")"
   ]
  }
 ],
 "metadata": {
  "kernelspec": {
   "display_name": "Python 3 (ipykernel)",
   "language": "python",
   "name": "python3"
  },
  "language_info": {
   "codemirror_mode": {
    "name": "ipython",
    "version": 3
   },
   "file_extension": ".py",
   "mimetype": "text/x-python",
   "name": "python",
   "nbconvert_exporter": "python",
   "pygments_lexer": "ipython3",
   "version": "3.12.4"
  }
 },
 "nbformat": 4,
 "nbformat_minor": 4
}
